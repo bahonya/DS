{
 "cells": [
  {
   "cell_type": "code",
   "execution_count": 1,
   "metadata": {},
   "outputs": [],
   "source": [
    "s1 = \"They call it a Royale with cheese.\"\n",
    "s2 = \"A Royale with cheese. What do they call a Big Mac?\"\n",
    "s3 = \"Well, a Big Mac is a Big Mac, but they call it le Big-Mac.\"\n",
    "s4 = \"Le Big-Mac. Ha ha ha ha. What do they call a Whopper?\""
   ]
  },
  {
   "cell_type": "code",
   "execution_count": 32,
   "metadata": {},
   "outputs": [],
   "source": [
    "def tokenize(s):\n",
    "    return (s.replace(\",\", \" \").replace(\".\", \" \")).split()"
   ]
  },
  {
   "cell_type": "code",
   "execution_count": 33,
   "metadata": {},
   "outputs": [],
   "source": [
    "def number_of_words(tokens):\n",
    "    output = {}\n",
    "    for token in tokens:\n",
    "        output[token] = tokens.count(token)\n",
    "    return output"
   ]
  },
  {
   "cell_type": "code",
   "execution_count": 36,
   "metadata": {},
   "outputs": [
    {
     "data": {
      "text/plain": [
       "{'Well': 1,\n",
       " 'a': 2,\n",
       " 'Big': 2,\n",
       " 'Mac': 2,\n",
       " 'is': 1,\n",
       " 'but': 1,\n",
       " 'they': 1,\n",
       " 'call': 1,\n",
       " 'it': 1,\n",
       " 'le': 1,\n",
       " 'Big-Mac': 1}"
      ]
     },
     "execution_count": 36,
     "metadata": {},
     "output_type": "execute_result"
    }
   ],
   "source": [
    "number_of_words(tokenize(s3))"
   ]
  },
  {
   "cell_type": "code",
   "execution_count": null,
   "metadata": {},
   "outputs": [],
   "source": [
    "def polynomial_kernel(dict1, dict2, d):\n",
    "    output = 0\n",
    "    for "
   ]
  }
 ],
 "metadata": {
  "interpreter": {
   "hash": "e7370f93d1d0cde622a1f8e1c04877d8463912d04d973331ad4851f04de6915a"
  },
  "kernelspec": {
   "display_name": "Python 3.10.4 64-bit",
   "language": "python",
   "name": "python3"
  },
  "language_info": {
   "codemirror_mode": {
    "name": "ipython",
    "version": 3
   },
   "file_extension": ".py",
   "mimetype": "text/x-python",
   "name": "python",
   "nbconvert_exporter": "python",
   "pygments_lexer": "ipython3",
   "version": "3.10.4"
  },
  "orig_nbformat": 4
 },
 "nbformat": 4,
 "nbformat_minor": 2
}
